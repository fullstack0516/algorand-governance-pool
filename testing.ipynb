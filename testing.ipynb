{
 "cells": [
  {
   "cell_type": "markdown",
   "metadata": {},
   "source": [
    "1. Import packages"
   ]
  },
  {
   "cell_type": "code",
   "execution_count": 1,
   "metadata": {},
   "outputs": [
    {
     "data": {
      "text/plain": [
       "True"
      ]
     },
     "execution_count": 1,
     "metadata": {},
     "output_type": "execute_result"
    }
   ],
   "source": [
    "import os\n",
    "import dotenv\n",
    "\n",
    "from algosdk.logic import get_application_address\n",
    "\n",
    "from ally.operations import bootstrap_pool, create_pool\n",
    "from ally.utils import get_algod_client, get_app_global_state\n",
    "from ally.account import Account\n",
    "\n",
    "dotenv.load_dotenv(\".env\")"
   ]
  },
  {
   "cell_type": "code",
   "execution_count": 2,
   "metadata": {},
   "outputs": [],
   "source": [
    "client = get_algod_client(os.environ.get(\"ALGOD_URL\"), os.environ.get(\"ALGOD_API_KEY\"))\n",
    "app_id = int(os.environ.get(\"APP_ID\"))\n",
    "walgo_id = int(os.environ.get(\"WALGO_ID\"))"
   ]
  },
  {
   "cell_type": "code",
   "execution_count": 3,
   "metadata": {},
   "outputs": [
    {
     "name": "stdout",
     "output_type": "stream",
     "text": [
      "44300614\n",
      "46063049\n",
      "56585468\n",
      "62533795\n"
     ]
    }
   ],
   "source": [
    "creator = Account.from_mnemonic(os.environ.get(\"CREATOR_MNEMONIC\"))\n",
    "\n",
    "apps = client.account_info(creator.get_address())[\"created-apps\"]\n",
    "for app in apps:\n",
    "    print(app['id'])"
   ]
  },
  {
   "cell_type": "code",
   "execution_count": 11,
   "metadata": {},
   "outputs": [
    {
     "name": "stdout",
     "output_type": "stream",
     "text": [
      "Global state:  {b'ar': 1, b'rp': 1000000000, b'co': 0, b'gov': b'\\xa6\\xb4\\xcf\\x11\\xa9Y\\xc1\\x02!~\\x9dD-\\x85%g\\xb6\\x95\\x96\\xa7\\xe6K-\\xdf\\x0f\\x06\\xef\\x1a\\n\\xdbkz', b'mp': 1000000000, b'p': 62533838}\n"
     ]
    }
   ],
   "source": [
    "state = get_app_global_state(client, 62533795)\n",
    "print(\"Global state: \", state)"
   ]
  },
  {
   "cell_type": "code",
   "execution_count": 7,
   "metadata": {},
   "outputs": [
    {
     "data": {
      "text/plain": [
       "'U22M6ENJLHAQEIL6TVCC3BJFM63JLFVH4ZFS3XYPA3XRUCW3NN5MKC5YVU'"
      ]
     },
     "execution_count": 7,
     "metadata": {},
     "output_type": "execute_result"
    }
   ],
   "source": [
    "from algosdk import encoding\n",
    "\n",
    "encoding.encode_address(state[b\"gov\"])"
   ]
  }
 ],
 "metadata": {
  "interpreter": {
   "hash": "7956a4b7128ac334e21eecf1f7610450397ab6b457c32676677f948f195b0d8c"
  },
  "kernelspec": {
   "display_name": "Python 3.8.10 64-bit ('venv': venv)",
   "language": "python",
   "name": "python3"
  },
  "language_info": {
   "codemirror_mode": {
    "name": "ipython",
    "version": 3
   },
   "file_extension": ".py",
   "mimetype": "text/x-python",
   "name": "python",
   "nbconvert_exporter": "python",
   "pygments_lexer": "ipython3",
   "version": "3.9.9"
  },
  "orig_nbformat": 4
 },
 "nbformat": 4,
 "nbformat_minor": 2
}
